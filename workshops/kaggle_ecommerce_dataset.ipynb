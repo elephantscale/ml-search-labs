{
  "nbformat": 4,
  "nbformat_minor": 0,
  "metadata": {
    "colab": {
      "name": "kaggle-ecommerce-dataset.ipynb",
      "provenance": []
    },
    "kernelspec": {
      "name": "python3",
      "display_name": "Python 3"
    }
  },
  "cells": [
    {
      "cell_type": "markdown",
      "metadata": {
        "id": "bP_UeiFp7kWh",
        "colab_type": "text"
      },
      "source": [
        "# Kaggle Ecommerce Data\n",
        "\n",
        "This is the Kaggle ecommerce data.\n",
        "\n",
        "It contains search queries with relevance scores associated with them.  \n",
        "\n",
        "## Suggested Activities:\n",
        "\n",
        "1. Use Supervised Machine Learning to try to predict relevance.\n",
        "2. "
      ]
    },
    {
      "cell_type": "code",
      "metadata": {
        "id": "MHjmF3YNxcBr",
        "colab_type": "code",
        "colab": {}
      },
      "source": [
        "import pandas as pd\n",
        "\n",
        "df = pd.read_csv('https://elephantscale-public.s3.amazonaws.com/data/kaggle-ecommerce/kaggle-ecommerce.csv')\n",
        "df"
      ],
      "execution_count": 0,
      "outputs": []
    },
    {
      "cell_type": "code",
      "metadata": {
        "id": "XZM4_BEsxgWn",
        "colab_type": "code",
        "colab": {}
      },
      "source": [
        ""
      ],
      "execution_count": 0,
      "outputs": []
    }
  ]
}