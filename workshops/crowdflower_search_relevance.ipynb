{
  "nbformat": 4,
  "nbformat_minor": 0,
  "metadata": {
    "colab": {
      "name": "crowdflower-search-relevance.ipynb",
      "provenance": []
    },
    "kernelspec": {
      "name": "python3",
      "display_name": "Python 3"
    }
  },
  "cells": [
    {
      "cell_type": "code",
      "metadata": {
        "id": "Ab4R-T47wIXv",
        "colab_type": "code",
        "colab": {}
      },
      "source": [
        ""
      ],
      "execution_count": 0,
      "outputs": []
    },
    {
      "cell_type": "markdown",
      "metadata": {
        "id": "jk0T_ZxWwZkB",
        "colab_type": "text"
      },
      "source": [
        "# Crowdflower Search Relevance\n",
        "\n"
      ]
    },
    {
      "cell_type": "code",
      "metadata": {
        "id": "k0m0wgDLsSyw",
        "colab_type": "code",
        "colab": {
          "base_uri": "https://localhost:8080/",
          "height": 589
        },
        "outputId": "8ea91065-c951-4d41-f36d-a7c59c4f47a3"
      },
      "source": [
        "import pandas as pd\n",
        "train = pd.read_csv('https://elephantscale-public.s3.amazonaws.com/data/crowdflower-search+relevance/train.csv')\n",
        "test = pd.read_csv('https://elephantscale-public.s3.amazonaws.com/data/crowdflower-search+relevance/test.csv')\n",
        "train"
      ],
      "execution_count": 1,
      "outputs": [
        {
          "output_type": "execute_result",
          "data": {
            "text/html": [
              "<div>\n",
              "<style scoped>\n",
              "    .dataframe tbody tr th:only-of-type {\n",
              "        vertical-align: middle;\n",
              "    }\n",
              "\n",
              "    .dataframe tbody tr th {\n",
              "        vertical-align: top;\n",
              "    }\n",
              "\n",
              "    .dataframe thead th {\n",
              "        text-align: right;\n",
              "    }\n",
              "</style>\n",
              "<table border=\"1\" class=\"dataframe\">\n",
              "  <thead>\n",
              "    <tr style=\"text-align: right;\">\n",
              "      <th></th>\n",
              "      <th>id</th>\n",
              "      <th>query</th>\n",
              "      <th>product_title</th>\n",
              "      <th>product_description</th>\n",
              "      <th>median_relevance</th>\n",
              "      <th>relevance_variance</th>\n",
              "    </tr>\n",
              "  </thead>\n",
              "  <tbody>\n",
              "    <tr>\n",
              "      <th>0</th>\n",
              "      <td>1</td>\n",
              "      <td>bridal shower decorations</td>\n",
              "      <td>Accent Pillow with Heart Design - Red/Black</td>\n",
              "      <td>Red satin accent pillow embroidered with a hea...</td>\n",
              "      <td>1</td>\n",
              "      <td>0.000</td>\n",
              "    </tr>\n",
              "    <tr>\n",
              "      <th>1</th>\n",
              "      <td>2</td>\n",
              "      <td>led christmas lights</td>\n",
              "      <td>Set of 10 Battery Operated Multi LED Train Chr...</td>\n",
              "      <td>Set of 10 Battery Operated Train Christmas Lig...</td>\n",
              "      <td>4</td>\n",
              "      <td>0.000</td>\n",
              "    </tr>\n",
              "    <tr>\n",
              "      <th>2</th>\n",
              "      <td>4</td>\n",
              "      <td>projector</td>\n",
              "      <td>ViewSonic Pro8200 DLP Multimedia Projector</td>\n",
              "      <td>NaN</td>\n",
              "      <td>4</td>\n",
              "      <td>0.471</td>\n",
              "    </tr>\n",
              "    <tr>\n",
              "      <th>3</th>\n",
              "      <td>5</td>\n",
              "      <td>wine rack</td>\n",
              "      <td>Concept Housewares WR-44526 Solid-Wood Ceiling...</td>\n",
              "      <td>Like a silent and sturdy tree, the Southern En...</td>\n",
              "      <td>4</td>\n",
              "      <td>0.000</td>\n",
              "    </tr>\n",
              "    <tr>\n",
              "      <th>4</th>\n",
              "      <td>7</td>\n",
              "      <td>light bulb</td>\n",
              "      <td>Wintergreen Lighting Christmas LED Light Bulb ...</td>\n",
              "      <td>WTGR1011\\nFeatures\\nNickel base, 60,000 averag...</td>\n",
              "      <td>2</td>\n",
              "      <td>0.471</td>\n",
              "    </tr>\n",
              "    <tr>\n",
              "      <th>...</th>\n",
              "      <td>...</td>\n",
              "      <td>...</td>\n",
              "      <td>...</td>\n",
              "      <td>...</td>\n",
              "      <td>...</td>\n",
              "      <td>...</td>\n",
              "    </tr>\n",
              "    <tr>\n",
              "      <th>10153</th>\n",
              "      <td>32655</td>\n",
              "      <td>plantronics corded headset</td>\n",
              "      <td>Plantronics TriStar H81N - headset</td>\n",
              "      <td>With four sizes of user-selectable earbuds and...</td>\n",
              "      <td>4</td>\n",
              "      <td>0.471</td>\n",
              "    </tr>\n",
              "    <tr>\n",
              "      <th>10154</th>\n",
              "      <td>32659</td>\n",
              "      <td>spiderman</td>\n",
              "      <td>Marvel Legends Infinite Series Amazing Spider-...</td>\n",
              "      <td>NaN</td>\n",
              "      <td>2</td>\n",
              "      <td>0.471</td>\n",
              "    </tr>\n",
              "    <tr>\n",
              "      <th>10155</th>\n",
              "      <td>32663</td>\n",
              "      <td>playstation vita system</td>\n",
              "      <td>MLB 15: The Show (PlayStation Vita)</td>\n",
              "      <td>An essential part of every fan’s season and Th...</td>\n",
              "      <td>2</td>\n",
              "      <td>1.247</td>\n",
              "    </tr>\n",
              "    <tr>\n",
              "      <th>10156</th>\n",
              "      <td>32666</td>\n",
              "      <td>flower bulbs</td>\n",
              "      <td>Junkyard Findings Vintage Trinkets-Small Typo ...</td>\n",
              "      <td>PRIMA FLOWERS-Junkyard Findings Vintage Trinke...</td>\n",
              "      <td>1</td>\n",
              "      <td>0.471</td>\n",
              "    </tr>\n",
              "    <tr>\n",
              "      <th>10157</th>\n",
              "      <td>32668</td>\n",
              "      <td>polar heart rate monitor</td>\n",
              "      <td>Polar F6 Black Coal Heart Rate Monitor Mens Pi...</td>\n",
              "      <td>NaN</td>\n",
              "      <td>4</td>\n",
              "      <td>0.000</td>\n",
              "    </tr>\n",
              "  </tbody>\n",
              "</table>\n",
              "<p>10158 rows × 6 columns</p>\n",
              "</div>"
            ],
            "text/plain": [
              "          id                       query  ... median_relevance relevance_variance\n",
              "0          1   bridal shower decorations  ...                1              0.000\n",
              "1          2        led christmas lights  ...                4              0.000\n",
              "2          4                   projector  ...                4              0.471\n",
              "3          5                   wine rack  ...                4              0.000\n",
              "4          7                  light bulb  ...                2              0.471\n",
              "...      ...                         ...  ...              ...                ...\n",
              "10153  32655  plantronics corded headset  ...                4              0.471\n",
              "10154  32659                   spiderman  ...                2              0.471\n",
              "10155  32663     playstation vita system  ...                2              1.247\n",
              "10156  32666                flower bulbs  ...                1              0.471\n",
              "10157  32668    polar heart rate monitor  ...                4              0.000\n",
              "\n",
              "[10158 rows x 6 columns]"
            ]
          },
          "metadata": {
            "tags": []
          },
          "execution_count": 1
        }
      ]
    },
    {
      "cell_type": "markdown",
      "metadata": {
        "id": "fsRBUia6wTyj",
        "colab_type": "text"
      },
      "source": [
        ""
      ]
    }
  ]
}